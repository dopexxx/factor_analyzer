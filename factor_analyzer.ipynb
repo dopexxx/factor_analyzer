{
 "cells": [
  {
   "cell_type": "code",
   "execution_count": 1,
   "metadata": {},
   "outputs": [],
   "source": [
    "import os\n",
    "import sys\n",
    "import numpy as np\n",
    "import seaborn as sns\n",
    "import pandas as pd"
   ]
  },
  {
   "cell_type": "markdown",
   "metadata": {},
   "source": [
    "Below we define the *factor_analyzer* class with the methods:\n",
    "* __\\_\\_init\\_\\___ (constructor)\n",
    "* __get_params__ (defining a parameter dictionary)\n",
    "* __fit__ (fitting routine excuting E and M steps)\n",
    "* __e_step__ (compute first and second moment of the factors)\n",
    "* __m_step__ (maximise likelihood of data)\n",
    "* __stopping_criterion__ (evaluate convergence of algorithm)\n",
    "\n",
    "SOURCE: *Ghahramani, Zoubin, and Geoffrey E. Hinton. The EM algorithm for mixtures of factor analyzers. Vol. 60. Technical Report CRG-TR-96-1, University of Toronto, 1996.*\n",
    "\n"
   ]
  },
  {
   "cell_type": "code",
   "execution_count": 2,
   "metadata": {},
   "outputs": [],
   "source": [
    "class factor_analyzer():\n",
    "    \n",
    "    def __init__(self, data, k=2, random_state=0):\n",
    "        \"\"\"\n",
    "        Factor analysis class constructor.\n",
    "        Randomly initialize factor loading matrix and noise variances.\n",
    "        \n",
    "        Args:\n",
    "        \tdata    {np.array} of shape (n,p), i.e. one sample per row.\n",
    "        \tk       {int} > 0 && < p, specifying how many latent factors are assumed.\n",
    "        \n",
    "        \"\"\"\n",
    "        from sklearn import preprocessing\n",
    "        \n",
    "        # Error handling\n",
    "        try:\n",
    "            assert data.shape[1] < data.shape[0] and k > 0\n",
    "        except AssertionError:\n",
    "            txt =  (\n",
    "                \"AssertionError. Please feed samples into rows and ensure there \"\n",
    "                \"are more samples than dimensions. Make sure k > 0.\"\n",
    "            )\n",
    "            raise AssertionError(txt)\n",
    "        \n",
    "        # Data should be fed as n x p matrix with one sample per row and n > p.\n",
    "        # Transpose for internal reasons, to simplify vectorization.\n",
    "        self.data = np.transpose(preprocessing.scale(data))\n",
    "        \n",
    "        # Save hyperparameter into a dict\n",
    "        self.params = self.get_params(k, random_state)\n",
    "        \n",
    "        \n",
    "    def get_params(self, k, random_state):\n",
    "        \"\"\"\n",
    "        Helper method to allocate dictionary with model parameters.\n",
    "        \"\"\"\n",
    "        # Fix random seed\n",
    "        np.random.seed(random_state)\n",
    "\n",
    "        return {\n",
    "            'k': k, \n",
    "            'p': self.data.shape[0],\n",
    "            'n': self.data.shape[1],\n",
    "            'F': np.random.normal(loc=0,scale=1, size=(self.data.shape[0], k)),\n",
    "            'Psi': np.diag(1.0/np.cov(self.data)),\n",
    "            'I': np.identity(k),\n",
    "            'random_state': random_state\n",
    "        }\n",
    "    \n",
    "    \n",
    "    def fit(self):\n",
    "        \"\"\"\n",
    "        Do EM steps.\n",
    "        \"\"\"\n",
    "        maxsteps = 100\n",
    "        steps = 0\n",
    "        while not self.stopping_criterion() and steps < maxsteps:\n",
    "            #print(self.params['F'])\n",
    "            #print(self.params['Psi'])\n",
    "            self.e_step()\n",
    "            self.m_step()\n",
    "            steps += 1\n",
    "            \n",
    "            \n",
    "        self.params.update({\n",
    "            'steps': steps,\n",
    "            'noise_variance': np.diag(self.params.get('Psi',0))\n",
    "        })\n",
    "        return self.params\n",
    "        \n",
    "    def e_step(self):\n",
    "        \"\"\"\n",
    "        Compute moments of factors given a sample.\n",
    "        \"\"\" \n",
    "        # beta will be of shape p x n\n",
    "        beta = np.matmul(\n",
    "            np.transpose(self.params.get('F',0)),\n",
    "            np.linalg.inv(\n",
    "                self.params.get('Psi',0)+np.matmul(\n",
    "                    self.params.get('F',0),\n",
    "                    np.transpose(self.params.get('F',0))\n",
    "                )\n",
    "            )\n",
    "        )\n",
    "        assert beta.shape == (self.params.get('k',0), self.params.get('p',0))\n",
    "        \n",
    "        first_moment = np.matmul(beta, self.data)\n",
    "        assert first_moment.shape == (self.params.get('k',0), self.params.get('n',0))\n",
    "\n",
    "        second_moment = np.zeros((self.params.get('n',0),self.params.get('k',0),self.params.get('k',0))) \n",
    "        # Compute the second moment separately for every sample..\n",
    "        for ind,sample in enumerate(self.data.T):\n",
    "            second_moment[ind,::] = (\n",
    "                self.params.get('I',0) - \n",
    "                np.matmul(beta, self.params.get('F',0)) + \n",
    "                np.linalg.multi_dot(\n",
    "                    [beta, np.expand_dims(sample,1), np.transpose(np.expand_dims(sample,1)), np.transpose(beta)]\n",
    "                )\n",
    "            )                \n",
    "        \n",
    "        self.params.update({\n",
    "            'f_m': first_moment,\n",
    "            's_m': second_moment\n",
    "        })\n",
    "                        \n",
    "\n",
    "    def m_step(self):\n",
    "        \"\"\"\n",
    "        Maximize likelihood of factor loading matrix.\n",
    "        \"\"\"\n",
    "        f_new = np.matmul(\n",
    "            np.matmul(self.data, np.transpose(self.params.get('f_m',0))),\n",
    "            np.linalg.inv(np.transpose(np.sum(self.params.get('s_m',0),0)))\n",
    "        )\n",
    "        assert f_new.shape == self.params.get('F',np.array([])).shape\n",
    "        \n",
    "        covariances = (\n",
    "            np.matmul(self.data,np.transpose(self.data)) - \n",
    "            np.matmul(np.matmul(f_new, self.params.get('f_m',0)), np.transpose(self.data))\n",
    "        )\n",
    "        # set of diagonal to 0\n",
    "        psi_new = (self.params.get('n',0)**-1)*np.diag(np.diag(covariances))\n",
    "        assert psi_new.shape == (self.params.get('p',0),self.params.get('p',0))\n",
    "        \n",
    "        self.params.update({\n",
    "            'F_old': self.params.get('F',0),\n",
    "            'F': f_new,\n",
    "            'Psi_old': self.params.get('Psi',0),\n",
    "            'Psi': psi_new\n",
    "        })\n",
    "        \n",
    "    def stopping_criterion(self, c=3):\n",
    "        \"\"\"\n",
    "        Specify when to stop EM iterations herein. \n",
    "        Default is when parameter decimits are unchanged before c=3rd decimal digit\n",
    "        \"\"\"\n",
    "        return (\n",
    "            np.array_equal(\n",
    "                abs(np.round(self.params.get('F_old',0),c) - np.round(self.params.get('F',0),c)),\n",
    "                np.zeros(self.params.get('F',np.array([])).shape)\n",
    "            ) and\n",
    "            np.array_equal(\n",
    "                abs(np.round(self.params.get('Psi_old',0),c) - np.round(self.params.get('Psi',0),c)),\n",
    "                np.zeros(self.params.get('Psi',np.array([])).shape)\n",
    "            )\n",
    "        )\n",
    "        \n"
   ]
  },
  {
   "cell_type": "markdown",
   "metadata": {},
   "source": [
    "### To verify whether the implementation works, compare it to a sklearn built-in method."
   ]
  },
  {
   "cell_type": "code",
   "execution_count": 3,
   "metadata": {},
   "outputs": [],
   "source": [
    "def compare_factor_analyzer(data, iterations=20, num_factors=1):\n",
    "    \"\"\"\n",
    "    Compare hand-crafted factor analysis class to sklearn method.\n",
    "    Apply factor analysis for several random seeds and evaluate stability of estimated parameters.\n",
    "    \n",
    "    Args:\n",
    "        - data {np.array} of shape num_samples x features.\n",
    "        - iterations {int} > 0, how many iterations will be executed (default = 20).\n",
    "        - num_factors {int} > 0, how many latent variables is searched for (default = 1).\n",
    "        - plot {bool}, whether the results should be plotted.\n",
    "    \n",
    "    Returns:\n",
    "        - df_F {pd.DataFrame} containing estimated factor loading matrix  for both methods (across runs).\n",
    "        - df_Psi {pd.DataFrame} containing estimated variances for both methods (across runs).\n",
    "    \n",
    "    \"\"\"\n",
    "    \n",
    "    df_F = pd.DataFrame()\n",
    "    df_Psi = pd.DataFrame()\n",
    "\n",
    "    for seed in range(iterations):\n",
    "        \n",
    "        if seed%5 == 0:\n",
    "            print(\"Currently running iteration no. {}\".format(seed))\n",
    "        # Sklearn fit\n",
    "        transformer = decomposition.FactorAnalysis(n_components=k, random_state=seed)\n",
    "        transformer.fit(preprocessing.scale(data))\n",
    "\n",
    "        df_F = pd.concat([\n",
    "            df_F,\n",
    "            pd.DataFrame({\n",
    "                'F': abs(transformer.components_.flatten()),\n",
    "                'type': \"sklearn\",\n",
    "                \"position\": [x for x in zip(*np.where(~np.isnan(transformer.components_)))],\n",
    "                'k': num_factors\n",
    "            })\n",
    "        ])\n",
    "        df_Psi = pd.concat([\n",
    "            df_Psi,\n",
    "            pd.DataFrame({\n",
    "                'Psi': transformer.noise_variance_,\n",
    "                'type': \"sklearn\",\n",
    "                \"position\": [x[0] for x in zip(*np.where(~np.isnan(transformer.noise_variance_)))],\n",
    "                'k': num_factors\n",
    "            })\n",
    "        ])\n",
    "\n",
    "        # My fit\n",
    "        factor_model = factor_analyzer(data,k=k,random_state=seed)\n",
    "        result = factor_model.fit()\n",
    "        \n",
    "        df_F = pd.concat([\n",
    "            df_F,\n",
    "            pd.DataFrame({\n",
    "                'F': np.transpose(result.get('F',np.array([]))).flatten(),\n",
    "                'type': \"ghaharamani\",\n",
    "                \"position\": [\n",
    "                    x for x in zip(*np.where(np.transpose(result.get('F',np.array([])))))\n",
    "                ],\n",
    "                'k': num_factors\n",
    "            })\n",
    "        ])\n",
    "        df_Psi = pd.concat([\n",
    "            df_Psi,\n",
    "            pd.DataFrame({\n",
    "                'Psi': result.get('noise_variance',0),\n",
    "                'type': \"ghaharamani\",\n",
    "                \"position\": [x[0] for x in zip(*np.where(result.get('noise_variance',0)))],\n",
    "                'k': num_factors\n",
    "            })\n",
    "        ])\n",
    "        \n",
    "    return df_F, df_Psi"
   ]
  },
  {
   "cell_type": "markdown",
   "metadata": {},
   "source": [
    "### Load some example datasets"
   ]
  },
  {
   "cell_type": "code",
   "execution_count": 4,
   "metadata": {},
   "outputs": [],
   "source": [
    "from sklearn import datasets, decomposition, preprocessing\n",
    "iris = datasets.load_iris()\n",
    "boston = datasets.load_boston()"
   ]
  },
  {
   "cell_type": "code",
   "execution_count": 5,
   "metadata": {},
   "outputs": [],
   "source": [
    "iterations = 10\n",
    "k = 1"
   ]
  },
  {
   "cell_type": "code",
   "execution_count": 6,
   "metadata": {},
   "outputs": [
    {
     "name": "stdout",
     "output_type": "stream",
     "text": [
      "Currently running iteration no. 0\n",
      "Currently running iteration no. 5\n"
     ]
    }
   ],
   "source": [
    "df_F, df_Psi = compare_factor_analyzer(iris.data, iterations, k)"
   ]
  },
  {
   "cell_type": "code",
   "execution_count": 7,
   "metadata": {},
   "outputs": [
    {
     "name": "stderr",
     "output_type": "stream",
     "text": [
      "/Users/jab/miniconda3/envs/rdkit3/lib/python3.6/site-packages/scipy/stats/stats.py:1713: FutureWarning: Using a non-tuple sequence for multidimensional indexing is deprecated; use `arr[tuple(seq)]` instead of `arr[seq]`. In the future this will be interpreted as an array index, `arr[np.array(seq)]`, which will result either in an error or a different result.\n",
      "  return np.add.reduce(sorted[indexer] * weights, axis=axis) / sumval\n"
     ]
    },
    {
     "data": {
      "image/png": "[encoded data removed]",
      "text/plain": [
       "<Figure size 1080x720 with 1 Axes>"
      ]
     },
     "metadata": {},
     "output_type": "display_data"
    }
   ],
   "source": [
    "sns.set(style=\"whitegrid\")\n",
    "sns.set(rc={'figure.figsize':(15,10)})\n",
    "ax = sns.barplot(x=\"position\", y=\"F\", hue=\"type\", data=df_F).set_title(\"Comparison of estimated factor loadings\")\n"
   ]
  },
  {
   "cell_type": "code",
   "execution_count": 8,
   "metadata": {},
   "outputs": [
    {
     "data": {
      "image/png": "[encoded data removed]",
      "text/plain": [
       "<Figure size 1080x720 with 1 Axes>"
      ]
     },
     "metadata": {},
     "output_type": "display_data"
    }
   ],
   "source": [
    "sns.set(style=\"whitegrid\")\n",
    "sns.set(rc={'figure.figsize':(15,10)})\n",
    "ax = sns.barplot(x=\"position\", y=\"Psi\", hue=\"type\", data=df_Psi).set_title(\"Comparison of variance estimates\")"
   ]
  },
  {
   "cell_type": "markdown",
   "metadata": {},
   "source": [
    "#### Weird. Whilst the variances are estimated exactly like in the sklearn method, the factor loadings differ slightly, in particular the factor for the second feature has the wrong sign.\n",
    "### I realised that the factor amplitudes were almost identical, only the sign changed in some random seeds"
   ]
  },
  {
   "cell_type": "code",
   "execution_count": 9,
   "metadata": {},
   "outputs": [
    {
     "data": {
      "text/html": [
       "<div>\n",
       "<style scoped>\n",
       "    .dataframe tbody tr th:only-of-type {\n",
       "        vertical-align: middle;\n",
       "    }\n",
       "\n",
       "    .dataframe tbody tr th {\n",
       "        vertical-align: top;\n",
       "    }\n",
       "\n",
       "    .dataframe thead th {\n",
       "        text-align: right;\n",
       "    }\n",
       "</style>\n",
       "<table border=\"1\" class=\"dataframe\">\n",
       "  <thead>\n",
       "    <tr style=\"text-align: right;\">\n",
       "      <th></th>\n",
       "      <th>F</th>\n",
       "      <th>type</th>\n",
       "      <th>position</th>\n",
       "      <th>k</th>\n",
       "    </tr>\n",
       "  </thead>\n",
       "  <tbody>\n",
       "    <tr>\n",
       "      <th>0</th>\n",
       "      <td>0.789473</td>\n",
       "      <td>ghaharamani</td>\n",
       "      <td>(0, 0)</td>\n",
       "      <td>1</td>\n",
       "    </tr>\n",
       "    <tr>\n",
       "      <th>0</th>\n",
       "      <td>0.806476</td>\n",
       "      <td>ghaharamani</td>\n",
       "      <td>(0, 0)</td>\n",
       "      <td>1</td>\n",
       "    </tr>\n",
       "    <tr>\n",
       "      <th>0</th>\n",
       "      <td>0.806360</td>\n",
       "      <td>ghaharamani</td>\n",
       "      <td>(0, 0)</td>\n",
       "      <td>1</td>\n",
       "    </tr>\n",
       "    <tr>\n",
       "      <th>0</th>\n",
       "      <td>0.807329</td>\n",
       "      <td>ghaharamani</td>\n",
       "      <td>(0, 0)</td>\n",
       "      <td>1</td>\n",
       "    </tr>\n",
       "    <tr>\n",
       "      <th>0</th>\n",
       "      <td>0.829491</td>\n",
       "      <td>ghaharamani</td>\n",
       "      <td>(0, 0)</td>\n",
       "      <td>1</td>\n",
       "    </tr>\n",
       "    <tr>\n",
       "      <th>0</th>\n",
       "      <td>-0.810394</td>\n",
       "      <td>ghaharamani</td>\n",
       "      <td>(0, 0)</td>\n",
       "      <td>1</td>\n",
       "    </tr>\n",
       "    <tr>\n",
       "      <th>0</th>\n",
       "      <td>-0.775885</td>\n",
       "      <td>ghaharamani</td>\n",
       "      <td>(0, 0)</td>\n",
       "      <td>1</td>\n",
       "    </tr>\n",
       "    <tr>\n",
       "      <th>0</th>\n",
       "      <td>0.770845</td>\n",
       "      <td>ghaharamani</td>\n",
       "      <td>(0, 0)</td>\n",
       "      <td>1</td>\n",
       "    </tr>\n",
       "    <tr>\n",
       "      <th>0</th>\n",
       "      <td>1.769144</td>\n",
       "      <td>ghaharamani</td>\n",
       "      <td>(0, 0)</td>\n",
       "      <td>1</td>\n",
       "    </tr>\n",
       "    <tr>\n",
       "      <th>0</th>\n",
       "      <td>0.809174</td>\n",
       "      <td>ghaharamani</td>\n",
       "      <td>(0, 0)</td>\n",
       "      <td>1</td>\n",
       "    </tr>\n",
       "  </tbody>\n",
       "</table>\n",
       "</div>"
      ],
      "text/plain": [
       "          F         type position  k\n",
       "0  0.789473  ghaharamani   (0, 0)  1\n",
       "0  0.806476  ghaharamani   (0, 0)  1\n",
       "0  0.806360  ghaharamani   (0, 0)  1\n",
       "0  0.807329  ghaharamani   (0, 0)  1\n",
       "0  0.829491  ghaharamani   (0, 0)  1\n",
       "0 -0.810394  ghaharamani   (0, 0)  1\n",
       "0 -0.775885  ghaharamani   (0, 0)  1\n",
       "0  0.770845  ghaharamani   (0, 0)  1\n",
       "0  1.769144  ghaharamani   (0, 0)  1\n",
       "0  0.809174  ghaharamani   (0, 0)  1"
      ]
     },
     "execution_count": 9,
     "metadata": {},
     "output_type": "execute_result"
    }
   ],
   "source": [
    "df_F[(df_F['type']=='ghaharamani') & (df_F['position']==(0,0))]"
   ]
  },
  {
   "cell_type": "markdown",
   "metadata": {},
   "source": [
    "#### Like the second-to-last line shows, the method can also get stuck in local minima and estimate other factor loadings."
   ]
  },
  {
   "cell_type": "code",
   "execution_count": 10,
   "metadata": {},
   "outputs": [
    {
     "data": {
      "image/png": "[encoded data removed]",
      "text/plain": [
       "<Figure size 1080x720 with 1 Axes>"
      ]
     },
     "metadata": {},
     "output_type": "display_data"
    }
   ],
   "source": [
    "# Let's disregard the signs\n",
    "df_F['F'] = abs(df_F['F'])\n",
    "\n",
    "# plot factor loadings again\n",
    "sns.set(style=\"whitegrid\")\n",
    "sns.set(rc={'figure.figsize':(15,10)})\n",
    "ax = sns.barplot(x=\"position\", y=\"F\", hue=\"type\", data=df_F).set_title(\"Comparison of estimated factor loadings\")"
   ]
  },
  {
   "cell_type": "markdown",
   "metadata": {},
   "source": [
    "#### Now the estimated factor loadings are almost identical (apart from the run with the bad local optimum). I still find the thing with the sign very unexpected, since the factor loadings should reflect correlations which have a directional nature. To check if/what mistake I did, I searched for the original implementation by \"Ghaharamani\""
   ]
  },
  {
   "cell_type": "markdown",
   "metadata": {},
   "source": [
    "#### I downloaded the MATLAB code and ran it on the Iris dataset with the default settings of the enclosed function (*ffa.m*). To do this, I wrote 2 scripts:\n",
    "* get_ghahramani_code.sh (downloads and unzips original code)\n",
    "* original_iris.m (Matlab code that runs *ffa.m* on Iris data with different random seeds, for k=1 and k=2 latent factors).\n",
    "\n",
    "#### Please see the respective files for details. Here I just read in the factor loading matrices produced by the original code.\n"
   ]
  },
  {
   "cell_type": "code",
   "execution_count": 11,
   "metadata": {},
   "outputs": [],
   "source": [
    "from scipy.io import loadmat\n",
    "\n",
    "x = loadmat('iris_result_1.mat')\n",
    "loadings = x['loadings']\n",
    "phis = x['phis']\n",
    "\n",
    "df_F_all = pd.concat([\n",
    "    df_F,\n",
    "    pd.DataFrame({\n",
    "        'F': np.transpose(loadings.flatten()),\n",
    "        'type': \"original_ghah.\",\n",
    "        \"position\":[\n",
    "            x for k in range(loadings.shape[0]) \n",
    "            for x in zip(*np.where(np.transpose(np.expand_dims(loadings[0,:],1))))\n",
    "        ],\n",
    "        'k': 1\n",
    "    })\n",
    "])\n",
    "\n",
    "df_Psi_all = pd.concat([\n",
    "    df_Psi,\n",
    "    pd.DataFrame({\n",
    "        'Psi': np.transpose(phis.flatten()),\n",
    "        'type': \"original_ghah.\",\n",
    "        \"position\":[\n",
    "            x[0] for k in range(phis.shape[0]) \n",
    "            for x in zip(*np.where(np.transpose(phis[0,:])))\n",
    "        ],\n",
    "        'k': 1\n",
    "    })\n",
    "])"
   ]
  },
  {
   "cell_type": "markdown",
   "metadata": {},
   "source": [
    "### Now plot the parameter estimates of all 3 methods"
   ]
  },
  {
   "cell_type": "code",
   "execution_count": 12,
   "metadata": {},
   "outputs": [
    {
     "data": {
      "image/png": "[encoded data removed]",
      "text/plain": [
       "<Figure size 1080x720 with 1 Axes>"
      ]
     },
     "metadata": {},
     "output_type": "display_data"
    }
   ],
   "source": [
    "sns.set(style=\"whitegrid\")\n",
    "sns.set(rc={'figure.figsize':(15,10)})\n",
    "ax = sns.barplot(x=\"position\", y=\"F\", hue=\"type\", data=df_F_all).set_title(\"Comparison of estimated factor loadings\")\n"
   ]
  },
  {
   "cell_type": "code",
   "execution_count": 13,
   "metadata": {},
   "outputs": [
    {
     "data": {
      "text/html": [
       "<div>\n",
       "<style scoped>\n",
       "    .dataframe tbody tr th:only-of-type {\n",
       "        vertical-align: middle;\n",
       "    }\n",
       "\n",
       "    .dataframe tbody tr th {\n",
       "        vertical-align: top;\n",
       "    }\n",
       "\n",
       "    .dataframe thead th {\n",
       "        text-align: right;\n",
       "    }\n",
       "</style>\n",
       "<table border=\"1\" class=\"dataframe\">\n",
       "  <thead>\n",
       "    <tr style=\"text-align: right;\">\n",
       "      <th></th>\n",
       "      <th>F</th>\n",
       "      <th>type</th>\n",
       "      <th>position</th>\n",
       "      <th>k</th>\n",
       "    </tr>\n",
       "  </thead>\n",
       "  <tbody>\n",
       "    <tr>\n",
       "      <th>0</th>\n",
       "      <td>-0.671874</td>\n",
       "      <td>original_ghah.</td>\n",
       "      <td>(0, 0)</td>\n",
       "      <td>1</td>\n",
       "    </tr>\n",
       "    <tr>\n",
       "      <th>4</th>\n",
       "      <td>0.667525</td>\n",
       "      <td>original_ghah.</td>\n",
       "      <td>(0, 0)</td>\n",
       "      <td>1</td>\n",
       "    </tr>\n",
       "    <tr>\n",
       "      <th>8</th>\n",
       "      <td>0.667384</td>\n",
       "      <td>original_ghah.</td>\n",
       "      <td>(0, 0)</td>\n",
       "      <td>1</td>\n",
       "    </tr>\n",
       "    <tr>\n",
       "      <th>12</th>\n",
       "      <td>0.669564</td>\n",
       "      <td>original_ghah.</td>\n",
       "      <td>(0, 0)</td>\n",
       "      <td>1</td>\n",
       "    </tr>\n",
       "    <tr>\n",
       "      <th>16</th>\n",
       "      <td>0.669478</td>\n",
       "      <td>original_ghah.</td>\n",
       "      <td>(0, 0)</td>\n",
       "      <td>1</td>\n",
       "    </tr>\n",
       "    <tr>\n",
       "      <th>20</th>\n",
       "      <td>0.673020</td>\n",
       "      <td>original_ghah.</td>\n",
       "      <td>(0, 0)</td>\n",
       "      <td>1</td>\n",
       "    </tr>\n",
       "    <tr>\n",
       "      <th>24</th>\n",
       "      <td>-0.724887</td>\n",
       "      <td>original_ghah.</td>\n",
       "      <td>(0, 0)</td>\n",
       "      <td>1</td>\n",
       "    </tr>\n",
       "    <tr>\n",
       "      <th>28</th>\n",
       "      <td>-0.669089</td>\n",
       "      <td>original_ghah.</td>\n",
       "      <td>(0, 0)</td>\n",
       "      <td>1</td>\n",
       "    </tr>\n",
       "    <tr>\n",
       "      <th>32</th>\n",
       "      <td>0.677339</td>\n",
       "      <td>original_ghah.</td>\n",
       "      <td>(0, 0)</td>\n",
       "      <td>1</td>\n",
       "    </tr>\n",
       "    <tr>\n",
       "      <th>36</th>\n",
       "      <td>-0.666747</td>\n",
       "      <td>original_ghah.</td>\n",
       "      <td>(0, 0)</td>\n",
       "      <td>1</td>\n",
       "    </tr>\n",
       "  </tbody>\n",
       "</table>\n",
       "</div>"
      ],
      "text/plain": [
       "           F            type position  k\n",
       "0  -0.671874  original_ghah.   (0, 0)  1\n",
       "4   0.667525  original_ghah.   (0, 0)  1\n",
       "8   0.667384  original_ghah.   (0, 0)  1\n",
       "12  0.669564  original_ghah.   (0, 0)  1\n",
       "16  0.669478  original_ghah.   (0, 0)  1\n",
       "20  0.673020  original_ghah.   (0, 0)  1\n",
       "24 -0.724887  original_ghah.   (0, 0)  1\n",
       "28 -0.669089  original_ghah.   (0, 0)  1\n",
       "32  0.677339  original_ghah.   (0, 0)  1\n",
       "36 -0.666747  original_ghah.   (0, 0)  1"
      ]
     },
     "execution_count": 13,
     "metadata": {},
     "output_type": "execute_result"
    }
   ],
   "source": [
    "# The above figure shows that the parameters from the original code are also instable.\n",
    "# Quick check of dataframe confirms this.\n",
    "df_F_all[(df_F_all['type']=='original_ghah.') & (df_F_all['position']==(0,0))].iloc[:10]"
   ]
  },
  {
   "cell_type": "code",
   "execution_count": null,
   "metadata": {},
   "outputs": [],
   "source": [
    "# In addition, the variance estimates differ, too.\n",
    "sns.set(style=\"whitegrid\")\n",
    "sns.set(rc={'figure.figsize':(15,10)})\n",
    "ax = sns.barplot(x=\"position\", y=\"Psi\", hue=\"type\", data=df_Psi_all).set_title(\"Comparison of variance estimates\")"
   ]
  },
  {
   "cell_type": "code",
   "execution_count": null,
   "metadata": {},
   "outputs": [],
   "source": []
  },
  {
   "cell_type": "code",
   "execution_count": null,
   "metadata": {},
   "outputs": [],
   "source": [
    "# Ignore sign, also for the original ghah. code\n",
    "df_F_all['F'] = abs(df_F_all['F'])\n",
    "\n",
    "sns.set(style=\"whitegrid\")\n",
    "sns.set(rc={'figure.figsize':(15,10)})\n",
    "ax = sns.barplot(x=\"position\", y=\"F\", hue=\"type\", data=df_F_all).set_title(\"Comparison of estimated factor loadings\")\n"
   ]
  },
  {
   "cell_type": "markdown",
   "metadata": {},
   "source": [
    "### Let us run the model on another dataset (Boston houses)\n",
    "#### For evaluation, ignore the sign of the factor loadings."
   ]
  },
  {
   "cell_type": "code",
   "execution_count": null,
   "metadata": {},
   "outputs": [],
   "source": [
    "# Boston dataset\n",
    "\n",
    "df_F, df_Psi = compare_factor_analyzer(boston.data, iterations, k)"
   ]
  },
  {
   "cell_type": "code",
   "execution_count": null,
   "metadata": {},
   "outputs": [],
   "source": [
    "# Plot factor loadings\n",
    "df_F['F'] = abs(df_F['F'])\n",
    "\n",
    "sns.set(style=\"whitegrid\")\n",
    "sns.set(rc={'figure.figsize':(15,10)})\n",
    "ax = sns.barplot(x=\"position\", y=\"F\", hue=\"type\", data=df_F).set_title(\"Comparison of estimated factor loadings\")"
   ]
  },
  {
   "cell_type": "code",
   "execution_count": null,
   "metadata": {},
   "outputs": [],
   "source": [
    "# Plot variance estimates\n",
    "\n",
    "sns.set(style=\"whitegrid\")\n",
    "sns.set(rc={'figure.figsize':(15,10)})\n",
    "ax = sns.barplot(x=\"position\", y=\"Psi\", hue=\"type\", data=df_Psi).set_title(\"Comparison of variance estimates\")"
   ]
  },
  {
   "cell_type": "markdown",
   "metadata": {},
   "source": [
    "## This shows that the code gives stable results that are aligned with the sklearn FactorAnalysis function (apart from the sign of my parameter estimates that may alternate according to the initialization of EM; a problem that also occurs in the original code)."
   ]
  }
 ],
 "metadata": {
  "kernelspec": {
   "display_name": "Python (rdkit)",
   "language": "python",
   "name": "rdkit3"
  },
  "language_info": {
   "codemirror_mode": {
    "name": "ipython",
    "version": 3
   },
   "file_extension": ".py",
   "mimetype": "text/x-python",
   "name": "python",
   "nbconvert_exporter": "python",
   "pygments_lexer": "ipython3",
   "version": "3.6.7"
  }
 },
 "nbformat": 4,
 "nbformat_minor": 2
}
